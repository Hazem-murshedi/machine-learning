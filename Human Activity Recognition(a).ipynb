{
 "cells": [
  {
   "cell_type": "markdown",
   "metadata": {},
   "source": [
    "\n",
    "\n",
    "#### Dataset: [UCF101](https://www.crcv.ucf.edu/research/data-sets/ucf101/)"
   ]
  },
  {
   "cell_type": "code",
   "execution_count": 1,
   "metadata": {},
   "outputs": [
    {
     "name": "stdout",
     "output_type": "stream",
     "text": [
      "1.11.0\n"
     ]
    }
   ],
   "source": [
    "%matplotlib inline\n",
    "import copy\n",
    "import time\n",
    "import torch\n",
    "import numpy as np\n",
    "import torch.nn as nn\n",
    "import torch.optim as optim\n",
    "import torch.nn.functional as F\n",
    "import matplotlib.pyplot as plt\n",
    "from torchvision import transforms,datasets, models\n",
    "\n",
    "print(torch.__version__) "
   ]
  },
  {
   "cell_type": "code",
   "execution_count": 2,
   "metadata": {},
   "outputs": [
    {
     "name": "stdout",
     "output_type": "stream",
     "text": [
      "GPU is available!\n"
     ]
    }
   ],
   "source": [
    "# Check availability of GPU\n",
    "\n",
    "use_gpu = torch.cuda.is_available()\n",
    "# use_gpu = False # Uncomment in case of GPU memory error\n",
    "if use_gpu:\n",
    "    print('GPU is available!')\n",
    "    device = \"cuda\"\n",
    "    pinMem = True\n",
    "else:\n",
    "    print('GPU is not available!')\n",
    "    device = \"cpu\"\n",
    "    pinMem = False"
   ]
  },
  {
   "cell_type": "code",
   "execution_count": 3,
   "metadata": {},
   "outputs": [],
   "source": [
    "# Loading data from folder using ImageFolder\n",
    "trainDir = 'train_5class'\n",
    "valDir = 'test_5class'\n",
    "apply_transform = transforms.Compose([\n",
    "        transforms.Resize(256),\n",
    "        transforms.CenterCrop(224),\n",
    "        transforms.ToTensor()])\n",
    "\n",
    "BatchSize = 128\n",
    "# Training dataloader\n",
    "train_dataset = datasets.ImageFolder(trainDir,transform=apply_transform)\n",
    "trainLoader = torch.utils.data.DataLoader(train_dataset, batch_size=BatchSize, shuffle=True,num_workers=4, pin_memory=pinMem)\n",
    "\n",
    "# Test dataloader\n",
    "test_dataset = datasets.ImageFolder(valDir,transform=apply_transform)\n",
    "testLoader = torch.utils.data.DataLoader(test_dataset, batch_size=BatchSize, shuffle=False,num_workers=4, pin_memory=pinMem)"
   ]
  },
  {
   "cell_type": "code",
   "execution_count": 4,
   "metadata": {},
   "outputs": [
    {
     "name": "stdout",
     "output_type": "stream",
     "text": [
      "No. of samples in train set: 83403\n",
      "No. of samples in test set: 19524\n"
     ]
    }
   ],
   "source": [
    "# Size of train and test datasets\n",
    "print('No. of samples in train set: '+str(len(trainLoader.dataset)))\n",
    "print('No. of samples in test set: '+str(len(testLoader.dataset)))"
   ]
  },
  {
   "cell_type": "markdown",
   "metadata": {},
   "source": [
    "## Define network architecture"
   ]
  },
  {
   "cell_type": "code",
   "execution_count": 5,
   "metadata": {
    "scrolled": true
   },
   "outputs": [
    {
     "name": "stdout",
     "output_type": "stream",
     "text": [
      "ResNet(\n",
      "  (conv1): Conv2d(3, 64, kernel_size=(7, 7), stride=(2, 2), padding=(3, 3), bias=False)\n",
      "  (bn1): BatchNorm2d(64, eps=1e-05, momentum=0.1, affine=True, track_running_stats=True)\n",
      "  (relu): ReLU(inplace=True)\n",
      "  (maxpool): MaxPool2d(kernel_size=3, stride=2, padding=1, dilation=1, ceil_mode=False)\n",
      "  (layer1): Sequential(\n",
      "    (0): BasicBlock(\n",
      "      (conv1): Conv2d(64, 64, kernel_size=(3, 3), stride=(1, 1), padding=(1, 1), bias=False)\n",
      "      (bn1): BatchNorm2d(64, eps=1e-05, momentum=0.1, affine=True, track_running_stats=True)\n",
      "      (relu): ReLU(inplace=True)\n",
      "      (conv2): Conv2d(64, 64, kernel_size=(3, 3), stride=(1, 1), padding=(1, 1), bias=False)\n",
      "      (bn2): BatchNorm2d(64, eps=1e-05, momentum=0.1, affine=True, track_running_stats=True)\n",
      "    )\n",
      "    (1): BasicBlock(\n",
      "      (conv1): Conv2d(64, 64, kernel_size=(3, 3), stride=(1, 1), padding=(1, 1), bias=False)\n",
      "      (bn1): BatchNorm2d(64, eps=1e-05, momentum=0.1, affine=True, track_running_stats=True)\n",
      "      (relu): ReLU(inplace=True)\n",
      "      (conv2): Conv2d(64, 64, kernel_size=(3, 3), stride=(1, 1), padding=(1, 1), bias=False)\n",
      "      (bn2): BatchNorm2d(64, eps=1e-05, momentum=0.1, affine=True, track_running_stats=True)\n",
      "    )\n",
      "  )\n",
      "  (layer2): Sequential(\n",
      "    (0): BasicBlock(\n",
      "      (conv1): Conv2d(64, 128, kernel_size=(3, 3), stride=(2, 2), padding=(1, 1), bias=False)\n",
      "      (bn1): BatchNorm2d(128, eps=1e-05, momentum=0.1, affine=True, track_running_stats=True)\n",
      "      (relu): ReLU(inplace=True)\n",
      "      (conv2): Conv2d(128, 128, kernel_size=(3, 3), stride=(1, 1), padding=(1, 1), bias=False)\n",
      "      (bn2): BatchNorm2d(128, eps=1e-05, momentum=0.1, affine=True, track_running_stats=True)\n",
      "      (downsample): Sequential(\n",
      "        (0): Conv2d(64, 128, kernel_size=(1, 1), stride=(2, 2), bias=False)\n",
      "        (1): BatchNorm2d(128, eps=1e-05, momentum=0.1, affine=True, track_running_stats=True)\n",
      "      )\n",
      "    )\n",
      "    (1): BasicBlock(\n",
      "      (conv1): Conv2d(128, 128, kernel_size=(3, 3), stride=(1, 1), padding=(1, 1), bias=False)\n",
      "      (bn1): BatchNorm2d(128, eps=1e-05, momentum=0.1, affine=True, track_running_stats=True)\n",
      "      (relu): ReLU(inplace=True)\n",
      "      (conv2): Conv2d(128, 128, kernel_size=(3, 3), stride=(1, 1), padding=(1, 1), bias=False)\n",
      "      (bn2): BatchNorm2d(128, eps=1e-05, momentum=0.1, affine=True, track_running_stats=True)\n",
      "    )\n",
      "  )\n",
      "  (layer3): Sequential(\n",
      "    (0): BasicBlock(\n",
      "      (conv1): Conv2d(128, 256, kernel_size=(3, 3), stride=(2, 2), padding=(1, 1), bias=False)\n",
      "      (bn1): BatchNorm2d(256, eps=1e-05, momentum=0.1, affine=True, track_running_stats=True)\n",
      "      (relu): ReLU(inplace=True)\n",
      "      (conv2): Conv2d(256, 256, kernel_size=(3, 3), stride=(1, 1), padding=(1, 1), bias=False)\n",
      "      (bn2): BatchNorm2d(256, eps=1e-05, momentum=0.1, affine=True, track_running_stats=True)\n",
      "      (downsample): Sequential(\n",
      "        (0): Conv2d(128, 256, kernel_size=(1, 1), stride=(2, 2), bias=False)\n",
      "        (1): BatchNorm2d(256, eps=1e-05, momentum=0.1, affine=True, track_running_stats=True)\n",
      "      )\n",
      "    )\n",
      "    (1): BasicBlock(\n",
      "      (conv1): Conv2d(256, 256, kernel_size=(3, 3), stride=(1, 1), padding=(1, 1), bias=False)\n",
      "      (bn1): BatchNorm2d(256, eps=1e-05, momentum=0.1, affine=True, track_running_stats=True)\n",
      "      (relu): ReLU(inplace=True)\n",
      "      (conv2): Conv2d(256, 256, kernel_size=(3, 3), stride=(1, 1), padding=(1, 1), bias=False)\n",
      "      (bn2): BatchNorm2d(256, eps=1e-05, momentum=0.1, affine=True, track_running_stats=True)\n",
      "    )\n",
      "  )\n",
      "  (layer4): Sequential(\n",
      "    (0): BasicBlock(\n",
      "      (conv1): Conv2d(256, 512, kernel_size=(3, 3), stride=(2, 2), padding=(1, 1), bias=False)\n",
      "      (bn1): BatchNorm2d(512, eps=1e-05, momentum=0.1, affine=True, track_running_stats=True)\n",
      "      (relu): ReLU(inplace=True)\n",
      "      (conv2): Conv2d(512, 512, kernel_size=(3, 3), stride=(1, 1), padding=(1, 1), bias=False)\n",
      "      (bn2): BatchNorm2d(512, eps=1e-05, momentum=0.1, affine=True, track_running_stats=True)\n",
      "      (downsample): Sequential(\n",
      "        (0): Conv2d(256, 512, kernel_size=(1, 1), stride=(2, 2), bias=False)\n",
      "        (1): BatchNorm2d(512, eps=1e-05, momentum=0.1, affine=True, track_running_stats=True)\n",
      "      )\n",
      "    )\n",
      "    (1): BasicBlock(\n",
      "      (conv1): Conv2d(512, 512, kernel_size=(3, 3), stride=(1, 1), padding=(1, 1), bias=False)\n",
      "      (bn1): BatchNorm2d(512, eps=1e-05, momentum=0.1, affine=True, track_running_stats=True)\n",
      "      (relu): ReLU(inplace=True)\n",
      "      (conv2): Conv2d(512, 512, kernel_size=(3, 3), stride=(1, 1), padding=(1, 1), bias=False)\n",
      "      (bn2): BatchNorm2d(512, eps=1e-05, momentum=0.1, affine=True, track_running_stats=True)\n",
      "    )\n",
      "  )\n",
      "  (avgpool): AdaptiveAvgPool2d(output_size=(1, 1))\n",
      "  (fc): Linear(in_features=512, out_features=1000, bias=True)\n",
      ")\n"
     ]
    }
   ],
   "source": [
    "net = models.resnet18(pretrained=True)\n",
    "print(net)"
   ]
  },
  {
   "cell_type": "code",
   "execution_count": 6,
   "metadata": {
    "scrolled": true
   },
   "outputs": [
    {
     "name": "stdout",
     "output_type": "stream",
     "text": [
      "conv1.weight --> torch.Size([64, 3, 7, 7])\n",
      "bn1.weight --> torch.Size([64])\n",
      "bn1.bias --> torch.Size([64])\n",
      "layer1.0.conv1.weight --> torch.Size([64, 64, 3, 3])\n",
      "layer1.0.bn1.weight --> torch.Size([64])\n",
      "layer1.0.bn1.bias --> torch.Size([64])\n",
      "layer1.0.conv2.weight --> torch.Size([64, 64, 3, 3])\n",
      "layer1.0.bn2.weight --> torch.Size([64])\n",
      "layer1.0.bn2.bias --> torch.Size([64])\n",
      "layer1.1.conv1.weight --> torch.Size([64, 64, 3, 3])\n",
      "layer1.1.bn1.weight --> torch.Size([64])\n",
      "layer1.1.bn1.bias --> torch.Size([64])\n",
      "layer1.1.conv2.weight --> torch.Size([64, 64, 3, 3])\n",
      "layer1.1.bn2.weight --> torch.Size([64])\n",
      "layer1.1.bn2.bias --> torch.Size([64])\n",
      "layer2.0.conv1.weight --> torch.Size([128, 64, 3, 3])\n",
      "layer2.0.bn1.weight --> torch.Size([128])\n",
      "layer2.0.bn1.bias --> torch.Size([128])\n",
      "layer2.0.conv2.weight --> torch.Size([128, 128, 3, 3])\n",
      "layer2.0.bn2.weight --> torch.Size([128])\n",
      "layer2.0.bn2.bias --> torch.Size([128])\n",
      "layer2.0.downsample.0.weight --> torch.Size([128, 64, 1, 1])\n",
      "layer2.0.downsample.1.weight --> torch.Size([128])\n",
      "layer2.0.downsample.1.bias --> torch.Size([128])\n",
      "layer2.1.conv1.weight --> torch.Size([128, 128, 3, 3])\n",
      "layer2.1.bn1.weight --> torch.Size([128])\n",
      "layer2.1.bn1.bias --> torch.Size([128])\n",
      "layer2.1.conv2.weight --> torch.Size([128, 128, 3, 3])\n",
      "layer2.1.bn2.weight --> torch.Size([128])\n",
      "layer2.1.bn2.bias --> torch.Size([128])\n",
      "layer3.0.conv1.weight --> torch.Size([256, 128, 3, 3])\n",
      "layer3.0.bn1.weight --> torch.Size([256])\n",
      "layer3.0.bn1.bias --> torch.Size([256])\n",
      "layer3.0.conv2.weight --> torch.Size([256, 256, 3, 3])\n",
      "layer3.0.bn2.weight --> torch.Size([256])\n",
      "layer3.0.bn2.bias --> torch.Size([256])\n",
      "layer3.0.downsample.0.weight --> torch.Size([256, 128, 1, 1])\n",
      "layer3.0.downsample.1.weight --> torch.Size([256])\n",
      "layer3.0.downsample.1.bias --> torch.Size([256])\n",
      "layer3.1.conv1.weight --> torch.Size([256, 256, 3, 3])\n",
      "layer3.1.bn1.weight --> torch.Size([256])\n",
      "layer3.1.bn1.bias --> torch.Size([256])\n",
      "layer3.1.conv2.weight --> torch.Size([256, 256, 3, 3])\n",
      "layer3.1.bn2.weight --> torch.Size([256])\n",
      "layer3.1.bn2.bias --> torch.Size([256])\n",
      "layer4.0.conv1.weight --> torch.Size([512, 256, 3, 3])\n",
      "layer4.0.bn1.weight --> torch.Size([512])\n",
      "layer4.0.bn1.bias --> torch.Size([512])\n",
      "layer4.0.conv2.weight --> torch.Size([512, 512, 3, 3])\n",
      "layer4.0.bn2.weight --> torch.Size([512])\n",
      "layer4.0.bn2.bias --> torch.Size([512])\n",
      "layer4.0.downsample.0.weight --> torch.Size([512, 256, 1, 1])\n",
      "layer4.0.downsample.1.weight --> torch.Size([512])\n",
      "layer4.0.downsample.1.bias --> torch.Size([512])\n",
      "layer4.1.conv1.weight --> torch.Size([512, 512, 3, 3])\n",
      "layer4.1.bn1.weight --> torch.Size([512])\n",
      "layer4.1.bn1.bias --> torch.Size([512])\n",
      "layer4.1.conv2.weight --> torch.Size([512, 512, 3, 3])\n",
      "layer4.1.bn2.weight --> torch.Size([512])\n",
      "layer4.1.bn2.bias --> torch.Size([512])\n",
      "fc.weight --> torch.Size([1000, 512])\n",
      "fc.bias --> torch.Size([1000])\n",
      "Total number of parameters: 11689512\n"
     ]
    }
   ],
   "source": [
    "# Counting number of trainable parameters\n",
    "totalParams = 0\n",
    "for name,params in net.named_parameters():\n",
    "    print(name,'-->',params.size())\n",
    "    totalParams += np.sum(np.prod(params.size()))\n",
    "print('Total number of parameters: '+str(totalParams))"
   ]
  },
  {
   "cell_type": "code",
   "execution_count": 7,
   "metadata": {},
   "outputs": [],
   "source": [
    "# Modifying the last fully-connected layer for 5 classes\n",
    "net.fc = nn.Linear(512,5) "
   ]
  },
  {
   "cell_type": "code",
   "execution_count": 8,
   "metadata": {},
   "outputs": [],
   "source": [
    "net = net.to(device)"
   ]
  },
  {
   "cell_type": "markdown",
   "metadata": {},
   "source": [
    "## Define loss function and optimizer"
   ]
  },
  {
   "cell_type": "code",
   "execution_count": 9,
   "metadata": {},
   "outputs": [],
   "source": [
    "criterion = nn.NLLLoss() # Negative Log-likelihood\n",
    "optimizer = optim.Adam(net.fc.parameters(), lr=1e-4) # Adam"
   ]
  },
  {
   "cell_type": "markdown",
   "metadata": {},
   "source": [
    "## Train the network"
   ]
  },
  {
   "cell_type": "code",
   "execution_count": 10,
   "metadata": {
    "scrolled": true
   },
   "outputs": [
    {
     "name": "stdout",
     "output_type": "stream",
     "text": [
      "Iteration: 1 /10;  Training Loss: 0.697900 ; Training Acc: 83.007\n",
      "Iteration: 1 /10;  Testing Loss: 3.515148 ; Testing Acc: 84.091\n",
      "Time consumed: 13m 28s\n",
      "Iteration: 2 /10;  Training Loss: 0.259907 ; Training Acc: 96.457\n",
      "Iteration: 2 /10;  Testing Loss: 1.532970 ; Testing Acc: 85.080\n",
      "Time consumed: 8m 43s\n",
      "Iteration: 3 /10;  Training Loss: 0.164511 ; Training Acc: 97.757\n",
      "Iteration: 3 /10;  Testing Loss: 1.085781 ; Testing Acc: 85.387\n",
      "Time consumed: 8m 43s\n",
      "Iteration: 4 /10;  Training Loss: 0.120052 ; Training Acc: 98.303\n",
      "Iteration: 4 /10;  Testing Loss: 0.877896 ; Testing Acc: 85.280\n",
      "Time consumed: 8m 42s\n",
      "Iteration: 5 /10;  Training Loss: 0.094095 ; Training Acc: 98.615\n",
      "Iteration: 5 /10;  Testing Loss: 0.751102 ; Testing Acc: 85.438\n",
      "Time consumed: 8m 42s\n",
      "Iteration: 6 /10;  Training Loss: 0.077754 ; Training Acc: 98.800\n",
      "Iteration: 6 /10;  Testing Loss: 0.688256 ; Testing Acc: 84.778\n",
      "Time consumed: 8m 42s\n",
      "Iteration: 7 /10;  Training Loss: 0.065166 ; Training Acc: 98.990\n",
      "Iteration: 7 /10;  Testing Loss: 0.635201 ; Testing Acc: 84.732\n",
      "Time consumed: 8m 43s\n",
      "Iteration: 8 /10;  Training Loss: 0.055753 ; Training Acc: 99.131\n",
      "Iteration: 8 /10;  Testing Loss: 0.586106 ; Testing Acc: 84.655\n",
      "Time consumed: 8m 43s\n"
     ]
    },
    {
     "ename": "KeyboardInterrupt",
     "evalue": "",
     "output_type": "error",
     "traceback": [
      "\u001b[1;31m---------------------------------------------------------------------------\u001b[0m",
      "\u001b[1;31mKeyboardInterrupt\u001b[0m                         Traceback (most recent call last)",
      "Input \u001b[1;32mIn [10]\u001b[0m, in \u001b[0;36m<cell line: 9>\u001b[1;34m()\u001b[0m\n\u001b[0;32m     32\u001b[0m     optimizer\u001b[38;5;241m.\u001b[39mstep()\n\u001b[0;32m     33\u001b[0m     \u001b[38;5;66;03m# Accumulate loss per batch\u001b[39;00m\n\u001b[1;32m---> 34\u001b[0m     runningLoss \u001b[38;5;241m+\u001b[39m\u001b[38;5;241m=\u001b[39m \u001b[43mloss\u001b[49m\u001b[38;5;241;43m.\u001b[39;49m\u001b[43mitem\u001b[49m\u001b[43m(\u001b[49m\u001b[43m)\u001b[49m \n\u001b[0;32m     35\u001b[0m     batchNum \u001b[38;5;241m+\u001b[39m\u001b[38;5;241m=\u001b[39m \u001b[38;5;241m1\u001b[39m\n\u001b[0;32m     37\u001b[0m avgTrainAcc \u001b[38;5;241m=\u001b[39m \u001b[38;5;241m100\u001b[39m\u001b[38;5;241m*\u001b[39m\u001b[38;5;28mfloat\u001b[39m(running_correct)\u001b[38;5;241m/\u001b[39m\u001b[38;5;28mfloat\u001b[39m(\u001b[38;5;28mlen\u001b[39m(trainLoader\u001b[38;5;241m.\u001b[39mdataset))\n",
      "\u001b[1;31mKeyboardInterrupt\u001b[0m: "
     ]
    },
    {
     "data": {
      "image/png": "[encoded data removed]",
      "text/plain": [
       "<Figure size 432x288 with 1 Axes>"
      ]
     },
     "metadata": {
      "needs_background": "light"
     },
     "output_type": "display_data"
    },
    {
     "data": {
      "image/png": "[encoded data removed]",
      "text/plain": [
       "<Figure size 432x288 with 1 Axes>"
      ]
     },
     "metadata": {
      "needs_background": "light"
     },
     "output_type": "display_data"
    }
   ],
   "source": [
    "iterations = 10\n",
    "\n",
    "trainLoss = []\n",
    "trainAcc = []\n",
    "testLoss = []\n",
    "testAcc = []\n",
    "\n",
    "start = time.time()\n",
    "for epoch in range(iterations):\n",
    "    epochStart = time.time()\n",
    "    runningLoss = 0.0   \n",
    "    avgTotalLoss = 0.0\n",
    "    running_correct = 0   \n",
    "    \n",
    "    net.train() # For training \n",
    "    batchNum = 1\n",
    "    for data in trainLoader:\n",
    "        inputs,labels = data        \n",
    "        inputs, labels = inputs.to(device), labels.to(device)\n",
    "        outputs = net(inputs)\n",
    "        _, predicted = torch.max(outputs.data, 1)\n",
    "        running_correct += (predicted == labels.data).sum()            \n",
    "       \n",
    "        # Initialize gradients to zero\n",
    "        optimizer.zero_grad()             \n",
    "        \n",
    "        # Compute loss/error\n",
    "        loss = criterion(F.log_softmax(outputs,dim=1), labels)\n",
    "        # Backpropagate loss and compute gradients\n",
    "        loss.backward()\n",
    "        # Update the network parameters\n",
    "        optimizer.step()\n",
    "        # Accumulate loss per batch\n",
    "        runningLoss += loss.item() \n",
    "        batchNum += 1\n",
    "\n",
    "    avgTrainAcc = 100*float(running_correct)/float(len(trainLoader.dataset))\n",
    "    avgTrainLoss = runningLoss/(float(len(trainLoader.dataset))/BatchSize)  \n",
    "    trainAcc.append(avgTrainAcc)\n",
    "    trainLoss.append(avgTrainLoss)  \n",
    "    \n",
    "    # Evaluating performance on test set for each epoch\n",
    "    net.eval() # For testing [Affects batch-norm and dropout layers (if any)]\n",
    "    running_correct = 0 \n",
    "    with torch.no_grad():\n",
    "        for data in testLoader:\n",
    "            inputs,labels = data\n",
    "            \n",
    "            inputs, labels = inputs.to(device), labels.to(device)                \n",
    "            outputs = net(inputs)\n",
    "            _, predicted = torch.max(outputs.data, 1)\n",
    "            running_correct += (predicted == labels.data).sum()\n",
    "        \n",
    "            loss = criterion(F.log_softmax(outputs,dim=1), labels)\n",
    "        \n",
    "            runningLoss += loss.item()   \n",
    "\n",
    "    avgTestLoss = runningLoss/(float(len(testLoader.dataset))/BatchSize)\n",
    "    avgTestAcc = 100*float(running_correct)/float(len(testLoader.dataset))\n",
    "    testAcc.append(avgTestAcc)  \n",
    "    testLoss.append(avgTestLoss)\n",
    "    \n",
    "    # Plotting training loss vs Epochs\n",
    "    fig1 = plt.figure(1)        \n",
    "    plt.plot(range(epoch+1),trainLoss,'r-',label='train')  \n",
    "    plt.plot(range(epoch+1),testLoss,'g-',label='test') \n",
    "    if epoch==0:\n",
    "        plt.legend(loc='upper left')\n",
    "        plt.xlabel('Epochs')\n",
    "        plt.ylabel('Loss')   \n",
    "    # Plotting testing accuracy vs Epochs\n",
    "    fig2 = plt.figure(2)        \n",
    "    plt.plot(range(epoch+1),trainAcc,'r-',label='train')    \n",
    "    plt.plot(range(epoch+1),testAcc,'g-',label='test')        \n",
    "    if epoch==0:\n",
    "        plt.legend(loc='upper left')\n",
    "        plt.xlabel('Epochs')\n",
    "        plt.ylabel('Accuracy')  \n",
    "          \n",
    "        \n",
    "    epochEnd = time.time()-epochStart\n",
    "    print('Iteration: {:.0f} /{:.0f};  Training Loss: {:.6f} ; Training Acc: {:.3f}'\\\n",
    "          .format(epoch + 1,iterations,avgTrainLoss,avgTrainAcc))\n",
    "    print('Iteration: {:.0f} /{:.0f};  Testing Loss: {:.6f} ; Testing Acc: {:.3f}'\\\n",
    "          .format(epoch + 1,iterations,avgTestLoss,avgTestAcc))\n",
    "   \n",
    "    print('Time consumed: {:.0f}m {:.0f}s'.format(epochEnd//60,epochEnd%60))\n",
    "end = time.time()-start\n",
    "print('Training completed in {:.0f}m {:.0f}s'.format(end//60,end%60))\n"
   ]
  },
  {
   "cell_type": "markdown",
   "metadata": {},
   "source": [
    "### Save trained model"
   ]
  },
  {
   "cell_type": "code",
   "execution_count": 11,
   "metadata": {},
   "outputs": [],
   "source": [
    "torch.save(net.state_dict(), 'resnet18Pre_fcOnly5class_ucf101_10adam_1e-4_b128.pt')"
   ]
  },
  {
   "cell_type": "code",
   "execution_count": null,
   "metadata": {},
   "outputs": [],
   "source": []
  }
 ],
 "metadata": {
  "kernelspec": {
   "display_name": "Python 3 (ipykernel)",
   "language": "python",
   "name": "python3"
  },
  "language_info": {
   "codemirror_mode": {
    "name": "ipython",
    "version": 3
   },
   "file_extension": ".py",
   "mimetype": "text/x-python",
   "name": "python",
   "nbconvert_exporter": "python",
   "pygments_lexer": "ipython3",
   "version": "3.9.12"
  }
 },
 "nbformat": 4,
 "nbformat_minor": 2
}
